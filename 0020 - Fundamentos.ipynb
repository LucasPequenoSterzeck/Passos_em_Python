{
  "cells": [
    {
      "cell_type": "markdown",
      "metadata": {
        "id": "9TXPDtZtM6jM"
      },
      "source": [
        "# Notebook - Bibliotecas do Python\n",
        "\n",
        "> **Consideração:** Antes de iniciar esse caderno, seria ideal ter conhecimento de fundamentos do Python (Variáveis, condições, loop's e funções).\n",
        "\n",
        "## Instalação de Bibliotecas\n",
        "\n",
        "Execute a célula abaixo para instalar as bibliotecas necessárias.\n",
        "\n",
        "```python\n",
        "!pip install pandas\n",
        "!pip install selenium\n",
        "!pip install beautifulsoup4\n",
        "!pip install openpyxl\n",
        "!pip install chromedriver_autoinstaller\n",
        "!pip install pyautogui"
      ]
    },
    {
      "cell_type": "markdown",
      "metadata": {
        "id": "hbw0G8xGORh9"
      },
      "source": [
        "**O que são bibliotecas?**\n",
        "\n",
        "Bibliotecas Python são conjuntos de módulos e funções que permitem aos desenvolvedores executar diversas tarefas sem ter que escrever código do zero. Elas oferecem funcionalidades prontas que podem ser facilmente integradas a projetos, simplificando e acelerando o processo de desenvolvimento. Essas bibliotecas podem abranger desde operações simples, como manipulação de strings, até tarefas complexas, como processamento de imagens ou análise de dados.\n"
      ]
    },
    {
      "cell_type": "markdown",
      "metadata": {
        "id": "ItQcAnEBM_dE"
      },
      "source": [
        "## Importação de Bibliotecas"
      ]
    },
    {
      "cell_type": "code",
      "execution_count": 61,
      "metadata": {
        "id": "0Hr3KimMNAxN"
      },
      "outputs": [],
      "source": [
        "import pandas as pd\n",
        "import numpy as np\n",
        "from selenium import webdriver\n",
        "from bs4 import BeautifulSoup\n",
        "import chromedriver_autoinstaller\n",
        "import openpyxl\n",
        "import datetime\n",
        "import time\n",
        "import pyautogui\n",
        "import sqlite3"
      ]
    },
    {
      "cell_type": "markdown",
      "metadata": {
        "id": "x7k5YFsVNCC8"
      },
      "source": [
        "## Exemplo Pandas: Carregando e Manipulando Dados"
      ]
    },
    {
      "cell_type": "code",
      "execution_count": 69,
      "metadata": {},
      "outputs": [
        {
          "data": {
            "text/html": [
              "<div>\n",
              "<style scoped>\n",
              "    .dataframe tbody tr th:only-of-type {\n",
              "        vertical-align: middle;\n",
              "    }\n",
              "\n",
              "    .dataframe tbody tr th {\n",
              "        vertical-align: top;\n",
              "    }\n",
              "\n",
              "    .dataframe thead th {\n",
              "        text-align: right;\n",
              "    }\n",
              "</style>\n",
              "<table border=\"1\" class=\"dataframe\">\n",
              "  <thead>\n",
              "    <tr style=\"text-align: right;\">\n",
              "      <th></th>\n",
              "      <th>Coluna1</th>\n",
              "      <th>Coluna2</th>\n",
              "    </tr>\n",
              "  </thead>\n",
              "  <tbody>\n",
              "    <tr>\n",
              "      <th>0</th>\n",
              "      <td>c1</td>\n",
              "      <td>a1</td>\n",
              "    </tr>\n",
              "    <tr>\n",
              "      <th>1</th>\n",
              "      <td>c2</td>\n",
              "      <td>a2</td>\n",
              "    </tr>\n",
              "    <tr>\n",
              "      <th>2</th>\n",
              "      <td>c3</td>\n",
              "      <td>a3</td>\n",
              "    </tr>\n",
              "    <tr>\n",
              "      <th>3</th>\n",
              "      <td>c4</td>\n",
              "      <td>a4</td>\n",
              "    </tr>\n",
              "    <tr>\n",
              "      <th>4</th>\n",
              "      <td>c5</td>\n",
              "      <td>a5</td>\n",
              "    </tr>\n",
              "    <tr>\n",
              "      <th>5</th>\n",
              "      <td>c6</td>\n",
              "      <td>a6</td>\n",
              "    </tr>\n",
              "    <tr>\n",
              "      <th>6</th>\n",
              "      <td>c7</td>\n",
              "      <td>a7</td>\n",
              "    </tr>\n",
              "    <tr>\n",
              "      <th>7</th>\n",
              "      <td>c8</td>\n",
              "      <td>a8</td>\n",
              "    </tr>\n",
              "    <tr>\n",
              "      <th>8</th>\n",
              "      <td>c9</td>\n",
              "      <td>a9</td>\n",
              "    </tr>\n",
              "    <tr>\n",
              "      <th>9</th>\n",
              "      <td>c10</td>\n",
              "      <td>a10</td>\n",
              "    </tr>\n",
              "  </tbody>\n",
              "</table>\n",
              "</div>"
            ],
            "text/plain": [
              "  Coluna1 Coluna2\n",
              "0      c1      a1\n",
              "1      c2      a2\n",
              "2      c3      a3\n",
              "3      c4      a4\n",
              "4      c5      a5\n",
              "5      c6      a6\n",
              "6      c7      a7\n",
              "7      c8      a8\n",
              "8      c9      a9\n",
              "9     c10     a10"
            ]
          },
          "metadata": {},
          "output_type": "display_data"
        }
      ],
      "source": [
        "# Carregando um CSV\n",
        "\n",
        "df = pd.read_csv(r'0020 - Fundamentos CSV.csv', sep=';')\n",
        "display(df)"
      ]
    },
    {
      "cell_type": "code",
      "execution_count": 70,
      "metadata": {},
      "outputs": [
        {
          "data": {
            "text/html": [
              "<div>\n",
              "<style scoped>\n",
              "    .dataframe tbody tr th:only-of-type {\n",
              "        vertical-align: middle;\n",
              "    }\n",
              "\n",
              "    .dataframe tbody tr th {\n",
              "        vertical-align: top;\n",
              "    }\n",
              "\n",
              "    .dataframe thead th {\n",
              "        text-align: right;\n",
              "    }\n",
              "</style>\n",
              "<table border=\"1\" class=\"dataframe\">\n",
              "  <thead>\n",
              "    <tr style=\"text-align: right;\">\n",
              "      <th></th>\n",
              "      <th>Coluna1</th>\n",
              "      <th>Coluna2</th>\n",
              "    </tr>\n",
              "  </thead>\n",
              "  <tbody>\n",
              "    <tr>\n",
              "      <th>0</th>\n",
              "      <td>c1</td>\n",
              "      <td>a1</td>\n",
              "    </tr>\n",
              "    <tr>\n",
              "      <th>1</th>\n",
              "      <td>c2</td>\n",
              "      <td>a2</td>\n",
              "    </tr>\n",
              "    <tr>\n",
              "      <th>2</th>\n",
              "      <td>c3</td>\n",
              "      <td>a3</td>\n",
              "    </tr>\n",
              "    <tr>\n",
              "      <th>3</th>\n",
              "      <td>c4</td>\n",
              "      <td>a4</td>\n",
              "    </tr>\n",
              "    <tr>\n",
              "      <th>4</th>\n",
              "      <td>c5</td>\n",
              "      <td>a5</td>\n",
              "    </tr>\n",
              "    <tr>\n",
              "      <th>5</th>\n",
              "      <td>c6</td>\n",
              "      <td>a6</td>\n",
              "    </tr>\n",
              "    <tr>\n",
              "      <th>6</th>\n",
              "      <td>c7</td>\n",
              "      <td>a7</td>\n",
              "    </tr>\n",
              "    <tr>\n",
              "      <th>7</th>\n",
              "      <td>c8</td>\n",
              "      <td>a8</td>\n",
              "    </tr>\n",
              "    <tr>\n",
              "      <th>8</th>\n",
              "      <td>c9</td>\n",
              "      <td>a9</td>\n",
              "    </tr>\n",
              "    <tr>\n",
              "      <th>9</th>\n",
              "      <td>c10</td>\n",
              "      <td>a10</td>\n",
              "    </tr>\n",
              "  </tbody>\n",
              "</table>\n",
              "</div>"
            ],
            "text/plain": [
              "  Coluna1 Coluna2\n",
              "0      c1      a1\n",
              "1      c2      a2\n",
              "2      c3      a3\n",
              "3      c4      a4\n",
              "4      c5      a5\n",
              "5      c6      a6\n",
              "6      c7      a7\n",
              "7      c8      a8\n",
              "8      c9      a9\n",
              "9     c10     a10"
            ]
          },
          "execution_count": 70,
          "metadata": {},
          "output_type": "execute_result"
        }
      ],
      "source": [
        "# Carregando um EXCEL\n",
        "\n",
        "df = pd.read_excel(r'0020 - Fundamentos Excel.xlsx')\n",
        "df"
      ]
    },
    {
      "cell_type": "code",
      "execution_count": 72,
      "metadata": {
        "id": "YcGZNqrmNDSM"
      },
      "outputs": [],
      "source": [
        "# Criar um DataFrame com Pandas\n",
        "data = {'Nome': ['João', 'Maria', 'Pedro', 'Ana'],\n",
        "        'Idade': [25, 30, 22, 28],\n",
        "        'Cidade': ['São Paulo', 'Rio de Janeiro', 'Belo Horizonte', 'Porto Alegre']}\n"
      ]
    },
    {
      "cell_type": "code",
      "execution_count": 73,
      "metadata": {},
      "outputs": [
        {
          "data": {
            "text/plain": [
              "{'Nome': ['João', 'Maria', 'Pedro', 'Ana'],\n",
              " 'Idade': [25, 30, 22, 28],\n",
              " 'Cidade': ['São Paulo', 'Rio de Janeiro', 'Belo Horizonte', 'Porto Alegre']}"
            ]
          },
          "execution_count": 73,
          "metadata": {},
          "output_type": "execute_result"
        }
      ],
      "source": [
        "data"
      ]
    },
    {
      "cell_type": "code",
      "execution_count": 74,
      "metadata": {},
      "outputs": [
        {
          "data": {
            "text/plain": [
              "dict"
            ]
          },
          "execution_count": 74,
          "metadata": {},
          "output_type": "execute_result"
        }
      ],
      "source": [
        "type(data)"
      ]
    },
    {
      "cell_type": "code",
      "execution_count": 76,
      "metadata": {},
      "outputs": [
        {
          "name": "stdout",
          "output_type": "stream",
          "text": [
            "    Nome  Idade          Cidade\n",
            "0   João     25       São Paulo\n",
            "1  Maria     30  Rio de Janeiro\n",
            "2  Pedro     22  Belo Horizonte\n",
            "3    Ana     28    Porto Alegre\n"
          ]
        }
      ],
      "source": [
        "df = pd.DataFrame(data)\n",
        "\n",
        "# Imprimir DataFrame\n",
        "print(df)"
      ]
    },
    {
      "cell_type": "code",
      "execution_count": 77,
      "metadata": {},
      "outputs": [
        {
          "data": {
            "text/html": [
              "<div>\n",
              "<style scoped>\n",
              "    .dataframe tbody tr th:only-of-type {\n",
              "        vertical-align: middle;\n",
              "    }\n",
              "\n",
              "    .dataframe tbody tr th {\n",
              "        vertical-align: top;\n",
              "    }\n",
              "\n",
              "    .dataframe thead th {\n",
              "        text-align: right;\n",
              "    }\n",
              "</style>\n",
              "<table border=\"1\" class=\"dataframe\">\n",
              "  <thead>\n",
              "    <tr style=\"text-align: right;\">\n",
              "      <th></th>\n",
              "      <th>Nome</th>\n",
              "      <th>Idade</th>\n",
              "      <th>Cidade</th>\n",
              "    </tr>\n",
              "  </thead>\n",
              "  <tbody>\n",
              "    <tr>\n",
              "      <th>0</th>\n",
              "      <td>João</td>\n",
              "      <td>25</td>\n",
              "      <td>São Paulo</td>\n",
              "    </tr>\n",
              "    <tr>\n",
              "      <th>1</th>\n",
              "      <td>Maria</td>\n",
              "      <td>30</td>\n",
              "      <td>Rio de Janeiro</td>\n",
              "    </tr>\n",
              "    <tr>\n",
              "      <th>2</th>\n",
              "      <td>Pedro</td>\n",
              "      <td>22</td>\n",
              "      <td>Belo Horizonte</td>\n",
              "    </tr>\n",
              "    <tr>\n",
              "      <th>3</th>\n",
              "      <td>Ana</td>\n",
              "      <td>28</td>\n",
              "      <td>Porto Alegre</td>\n",
              "    </tr>\n",
              "  </tbody>\n",
              "</table>\n",
              "</div>"
            ],
            "text/plain": [
              "    Nome  Idade          Cidade\n",
              "0   João     25       São Paulo\n",
              "1  Maria     30  Rio de Janeiro\n",
              "2  Pedro     22  Belo Horizonte\n",
              "3    Ana     28    Porto Alegre"
            ]
          },
          "execution_count": 77,
          "metadata": {},
          "output_type": "execute_result"
        }
      ],
      "source": [
        "df"
      ]
    },
    {
      "cell_type": "code",
      "execution_count": 78,
      "metadata": {},
      "outputs": [
        {
          "data": {
            "text/html": [
              "<div>\n",
              "<style scoped>\n",
              "    .dataframe tbody tr th:only-of-type {\n",
              "        vertical-align: middle;\n",
              "    }\n",
              "\n",
              "    .dataframe tbody tr th {\n",
              "        vertical-align: top;\n",
              "    }\n",
              "\n",
              "    .dataframe thead th {\n",
              "        text-align: right;\n",
              "    }\n",
              "</style>\n",
              "<table border=\"1\" class=\"dataframe\">\n",
              "  <thead>\n",
              "    <tr style=\"text-align: right;\">\n",
              "      <th></th>\n",
              "      <th>Nome</th>\n",
              "      <th>Idade</th>\n",
              "      <th>Cidade</th>\n",
              "    </tr>\n",
              "  </thead>\n",
              "  <tbody>\n",
              "    <tr>\n",
              "      <th>0</th>\n",
              "      <td>João</td>\n",
              "      <td>25</td>\n",
              "      <td>São Paulo</td>\n",
              "    </tr>\n",
              "    <tr>\n",
              "      <th>1</th>\n",
              "      <td>Maria</td>\n",
              "      <td>30</td>\n",
              "      <td>Rio de Janeiro</td>\n",
              "    </tr>\n",
              "    <tr>\n",
              "      <th>2</th>\n",
              "      <td>Pedro</td>\n",
              "      <td>22</td>\n",
              "      <td>Belo Horizonte</td>\n",
              "    </tr>\n",
              "    <tr>\n",
              "      <th>3</th>\n",
              "      <td>Ana</td>\n",
              "      <td>28</td>\n",
              "      <td>Porto Alegre</td>\n",
              "    </tr>\n",
              "  </tbody>\n",
              "</table>\n",
              "</div>"
            ],
            "text/plain": [
              "    Nome  Idade          Cidade\n",
              "0   João     25       São Paulo\n",
              "1  Maria     30  Rio de Janeiro\n",
              "2  Pedro     22  Belo Horizonte\n",
              "3    Ana     28    Porto Alegre"
            ]
          },
          "metadata": {},
          "output_type": "display_data"
        }
      ],
      "source": [
        "display(df)"
      ]
    },
    {
      "cell_type": "code",
      "execution_count": 87,
      "metadata": {},
      "outputs": [
        {
          "data": {
            "text/html": [
              "<div>\n",
              "<style scoped>\n",
              "    .dataframe tbody tr th:only-of-type {\n",
              "        vertical-align: middle;\n",
              "    }\n",
              "\n",
              "    .dataframe tbody tr th {\n",
              "        vertical-align: top;\n",
              "    }\n",
              "\n",
              "    .dataframe thead th {\n",
              "        text-align: right;\n",
              "    }\n",
              "</style>\n",
              "<table border=\"1\" class=\"dataframe\">\n",
              "  <thead>\n",
              "    <tr style=\"text-align: right;\">\n",
              "      <th></th>\n",
              "      <th>Nome</th>\n",
              "      <th>Idade</th>\n",
              "      <th>Cidade</th>\n",
              "    </tr>\n",
              "  </thead>\n",
              "  <tbody>\n",
              "    <tr>\n",
              "      <th>2</th>\n",
              "      <td>Pedro</td>\n",
              "      <td>22</td>\n",
              "      <td>Belo Horizonte</td>\n",
              "    </tr>\n",
              "  </tbody>\n",
              "</table>\n",
              "</div>"
            ],
            "text/plain": [
              "    Nome  Idade          Cidade\n",
              "2  Pedro     22  Belo Horizonte"
            ]
          },
          "execution_count": 87,
          "metadata": {},
          "output_type": "execute_result"
        }
      ],
      "source": [
        "df_pedro = df[((df['Idade'] > 25) | (df['Idade'] == 22)) & (df['Nome'] == 'Pedro')]\n",
        "df_pedro"
      ]
    },
    {
      "cell_type": "code",
      "execution_count": 88,
      "metadata": {},
      "outputs": [
        {
          "data": {
            "text/html": [
              "<div>\n",
              "<style scoped>\n",
              "    .dataframe tbody tr th:only-of-type {\n",
              "        vertical-align: middle;\n",
              "    }\n",
              "\n",
              "    .dataframe tbody tr th {\n",
              "        vertical-align: top;\n",
              "    }\n",
              "\n",
              "    .dataframe thead th {\n",
              "        text-align: right;\n",
              "    }\n",
              "</style>\n",
              "<table border=\"1\" class=\"dataframe\">\n",
              "  <thead>\n",
              "    <tr style=\"text-align: right;\">\n",
              "      <th></th>\n",
              "      <th>Nome</th>\n",
              "      <th>Idade</th>\n",
              "      <th>Cidade</th>\n",
              "    </tr>\n",
              "  </thead>\n",
              "  <tbody>\n",
              "    <tr>\n",
              "      <th>1</th>\n",
              "      <td>Maria</td>\n",
              "      <td>30</td>\n",
              "      <td>Rio de Janeiro</td>\n",
              "    </tr>\n",
              "    <tr>\n",
              "      <th>3</th>\n",
              "      <td>Ana</td>\n",
              "      <td>28</td>\n",
              "      <td>Porto Alegre</td>\n",
              "    </tr>\n",
              "  </tbody>\n",
              "</table>\n",
              "</div>"
            ],
            "text/plain": [
              "    Nome  Idade          Cidade\n",
              "1  Maria     30  Rio de Janeiro\n",
              "3    Ana     28    Porto Alegre"
            ]
          },
          "metadata": {},
          "output_type": "display_data"
        }
      ],
      "source": [
        "# Filtrar por idade\n",
        "df_filtrado = df[df['Idade'] > 25]\n",
        "display(df_filtrado)"
      ]
    },
    {
      "cell_type": "markdown",
      "metadata": {
        "id": "LTYtxqYBNERD"
      },
      "source": [
        "## Exemplo Selenium: Navegando em uma Página Web"
      ]
    },
    {
      "cell_type": "code",
      "execution_count": 89,
      "metadata": {
        "id": "nVve3orSNExb"
      },
      "outputs": [],
      "source": [
        "# Configurar o driver do Selenium\n",
        "chromedriver_autoinstaller.install()\n",
        "driver = webdriver.Chrome()"
      ]
    },
    {
      "cell_type": "code",
      "execution_count": 90,
      "metadata": {},
      "outputs": [],
      "source": [
        "# Navegar para o Google\n",
        "driver.get('https://www.google.com')\n"
      ]
    },
    {
      "cell_type": "code",
      "execution_count": 92,
      "metadata": {},
      "outputs": [],
      "source": [
        "# Procurar pelo elemento de busca e fazer uma pesquisa\n",
        "from selenium.webdriver.common.by import By\n",
        "search_box = driver.find_element(By.XPATH, '//textarea[@name=\"q\"]')\n",
        "search_box.click()\n",
        "time.sleep(0.5)\n",
        "search_box.send_keys('Python')\n",
        "time.sleep(0.5)\n",
        "search_box.submit()\n"
      ]
    },
    {
      "cell_type": "code",
      "execution_count": 93,
      "metadata": {},
      "outputs": [],
      "source": [
        "# Esperar 5 segundos para a página carregar\n",
        "time.sleep(1)"
      ]
    },
    {
      "cell_type": "code",
      "execution_count": 94,
      "metadata": {},
      "outputs": [],
      "source": [
        "# Fechar o navegador\n",
        "driver.quit()"
      ]
    },
    {
      "cell_type": "markdown",
      "metadata": {
        "id": "PbYvJf9GNFjL"
      },
      "source": [
        "## Exemplo BeautifulSoup: Analisando HTML"
      ]
    },
    {
      "cell_type": "code",
      "execution_count": 95,
      "metadata": {
        "id": "3vvh6bLhNF-z"
      },
      "outputs": [
        {
          "name": "stdout",
          "output_type": "stream",
          "text": [
            "Título\n",
            "Texto do parágrafo.\n"
          ]
        }
      ],
      "source": [
        "# Exemplo com HTML simples\n",
        "html = '<html><body><h1>Título</h1><p>Texto do parágrafo.</p></body></html>'\n",
        "soup = BeautifulSoup(html, 'html.parser')\n",
        "\n",
        "# Imprimir o título e o parágrafo\n",
        "print(soup.h1.text)\n",
        "print(soup.p.text)\n"
      ]
    },
    {
      "cell_type": "markdown",
      "metadata": {
        "id": "a4OFQU_xNHCD"
      },
      "source": [
        "## Exemplo OpenPyXL: Trabalhando com Planilhas Excel"
      ]
    },
    {
      "cell_type": "code",
      "execution_count": 96,
      "metadata": {
        "id": "iuGn57C8NISk"
      },
      "outputs": [],
      "source": [
        "# Criar um arquivo Excel // Temos também xlwings como alternativa\n",
        "wb = openpyxl.Workbook()\n",
        "sheet = wb.active\n",
        "\n",
        "# Preencher células\n",
        "sheet['A1'] = 'Nome'\n",
        "sheet['B1'] = 'Idade'\n",
        "sheet['A2'] = 'João'\n",
        "sheet['B2'] = 25\n",
        "sheet['A3'] = 'Maria'\n",
        "sheet['B3'] = 30\n",
        "\n",
        "# Salvar o arquivo\n",
        "wb.save('exemplo.xlsx')\n"
      ]
    },
    {
      "cell_type": "markdown",
      "metadata": {
        "id": "u_uAmtS9NJQb"
      },
      "source": [
        "## Exemplo PyAutoGui: Automação de Tarefas"
      ]
    },
    {
      "cell_type": "code",
      "execution_count": 103,
      "metadata": {
        "id": "MTs2KvsSNJ8r"
      },
      "outputs": [],
      "source": [
        "import pyautogui\n",
        "import time\n",
        "\n",
        "# Abre o Bloco de Notas (assumindo que você está usando Windows)\n",
        "pyautogui.press('winleft')\n",
        "pyautogui.press('winleft')\n",
        "pyautogui.press('winleft')\n",
        "time.sleep(1)  # Pausa por meio segundo\n",
        "pyautogui.typewrite('notepad')  # Digita \"notepad\" no \"Executar\"\n",
        "pyautogui.press('enter')  # Pressiona 'Enter' para abrir o Bloco de Notas\n",
        "\n",
        "\n",
        "time.sleep(1)  # Pausa por um segundo para garantir que o Bloco de Notas esteja aberto\n",
        "\n",
        "# Digita 'Olá Mundo' no Bloco de Notas\n",
        "pyautogui.typewrite('Olá Mundo', interval=0.15)\n",
        "\n",
        "# Pressiona 'Ctrl + S' para abrir a janela de salvar\n",
        "pyautogui.hotkey('ctrl', 's')\n",
        "time.sleep(1)  # Pausa para garantir que a janela de salvar apareceu\n",
        "\n",
        "# Digita o nome do arquivo e salva\n",
        "pyautogui.typewrite('teste.txt')\n",
        "time.sleep(3)\n",
        "pyautogui.press('enter')\n"
      ]
    },
    {
      "cell_type": "markdown",
      "metadata": {
        "id": "aPF00fXYNMO8"
      },
      "source": [
        "# Exercício: Coletar Dados de uma Página Web"
      ]
    },
    {
      "cell_type": "code",
      "execution_count": 104,
      "metadata": {
        "id": "aPF00fXYNMO8"
      },
      "outputs": [],
      "source": [
        "# Configurar o driver do Selenium\n",
        "driver = webdriver.Chrome()\n",
        "url = 'https://www.ibm.com/docs/pt-br/tap/3.5.2?topic=tables-example-fact-table-associated-dimensions'  # Substitua pela URL da página que você deseja coletar dados\n",
        "\n",
        "# Navegar para a página\n",
        "driver.get(url)\n",
        "\n",
        "# Aguarde o carregamento da página (opcional)\n",
        "driver.implicitly_wait(3)  # Espera até 3 segundos para carregar a página\n",
        "# ou: time.sleep(3)"
      ]
    },
    {
      "cell_type": "code",
      "execution_count": 105,
      "metadata": {},
      "outputs": [
        {
          "data": {
            "text/plain": [
              "'Mundo1MundoN/AN/AN/AAmérica do Norte2MundoAmérica do NorteN/AN/AEMEA2MundoEMEAN/AN/AAPAC2MundoAPACN/AN/AEstados Unidos3MundoAmérica do NorteEstados UnidosN/ACanadá3MundoAmérica do NorteCanadáN/ANevada4MundoAmérica do NorteEstados UnidosNevadaTexas4MundoAmérica do NorteEstados UnidosTexas'"
            ]
          },
          "execution_count": 105,
          "metadata": {},
          "output_type": "execute_result"
        }
      ],
      "source": [
        "# Coletar o conteúdo da página usando BeautifulSoup\n",
        "html = driver.page_source\n",
        "soup = BeautifulSoup(html, 'html.parser')\n",
        "\n",
        "# Extrair as informações relevantes do HTML usando as funções do BeautifulSoup\n",
        "# Exemplo: coletar informações do clima\n",
        "dados_soup = soup.find('tbody', {'class': 'tbody'}).text\n",
        "\n",
        "dados_soup"
      ]
    },
    {
      "cell_type": "code",
      "execution_count": 106,
      "metadata": {},
      "outputs": [],
      "source": [
        "# Coletar o conteúdo da página usando Selenium\n",
        "from selenium.webdriver.common.by import By\n",
        "tabela = driver.find_element(By.XPATH, '//table[@cellpadding=\"4\"]')"
      ]
    },
    {
      "cell_type": "code",
      "execution_count": 108,
      "metadata": {},
      "outputs": [
        {
          "data": {
            "text/plain": [
              "'<table cellpadding=\"4\" cellspacing=\"0\" summary=\"Uma tabela de hierarquia simples com base na geografia\" class=\"table bx--data-table\" rules=\"all\" frame=\"border\" border=\"1\"><caption class=\"bx--data-table-header\"><span class=\"tablecap bx--data-table-header__title\">Tabela 1. Exemplo de hierarquia simples de geografia</span></caption><thead class=\"thead\" align=\"left\"><tr class=\"row\" valign=\"bottom\"><th class=\"entry thleft thbot\" valign=\"bottom\" id=\"d18218e53\"><div class=\"bx--table-header-label\">SPEC_ID</div></th><th class=\"entry thleft thbot\" valign=\"bottom\" id=\"d18218e55\"><div class=\"bx--table-header-label\">Número do nível</div></th><th class=\"entry thleft thbot\" valign=\"bottom\" id=\"d18218e57\"><div class=\"bx--table-header-label\">SPEC_ID de nível 1</div></th><th class=\"entry thleft thbot\" valign=\"bottom\" id=\"d18218e59\"><div class=\"bx--table-header-label\">SPEC_ID de nível 2</div></th><th class=\"entry thleft thbot\" valign=\"bottom\" id=\"d18218e61\"><div class=\"bx--table-header-label\">SPEC_ID de nível 3</div></th><th class=\"entry thleft thbot\" valign=\"bottom\" id=\"d18218e63\"><div class=\"bx--table-header-label\">SPEC_ID de nível 4</div></th></tr></thead><tbody class=\"tbody\"><tr class=\"row\"><td class=\"entry\" valign=\"top\" headers=\"d18218e53 \">Mundo</td><td class=\"entry\" valign=\"top\" headers=\"d18218e55 \">1</td><td class=\"entry\" valign=\"top\" headers=\"d18218e57 \">Mundo</td><td class=\"entry\" valign=\"top\" headers=\"d18218e59 \">N/A</td><td class=\"entry\" valign=\"top\" headers=\"d18218e61 \">N/A</td><td class=\"entry\" valign=\"top\" headers=\"d18218e63 \">N/A</td></tr><tr class=\"row\"><td class=\"entry\" valign=\"top\" headers=\"d18218e53 \">América do Norte</td><td class=\"entry\" valign=\"top\" headers=\"d18218e55 \">2</td><td class=\"entry\" valign=\"top\" headers=\"d18218e57 \">Mundo</td><td class=\"entry\" valign=\"top\" headers=\"d18218e59 \">América do Norte</td><td class=\"entry\" valign=\"top\" headers=\"d18218e61 \">N/A</td><td class=\"entry\" valign=\"top\" headers=\"d18218e63 \">N/A</td></tr><tr class=\"row\"><td class=\"entry\" valign=\"top\" headers=\"d18218e53 \">EMEA</td><td class=\"entry\" valign=\"top\" headers=\"d18218e55 \">2</td><td class=\"entry\" valign=\"top\" headers=\"d18218e57 \">Mundo</td><td class=\"entry\" valign=\"top\" headers=\"d18218e59 \">EMEA</td><td class=\"entry\" valign=\"top\" headers=\"d18218e61 \">N/A</td><td class=\"entry\" valign=\"top\" headers=\"d18218e63 \">N/A</td></tr><tr class=\"row\"><td class=\"entry\" valign=\"top\" headers=\"d18218e53 \">APAC</td><td class=\"entry\" valign=\"top\" headers=\"d18218e55 \">2</td><td class=\"entry\" valign=\"top\" headers=\"d18218e57 \">Mundo</td><td class=\"entry\" valign=\"top\" headers=\"d18218e59 \">APAC</td><td class=\"entry\" valign=\"top\" headers=\"d18218e61 \">N/A</td><td class=\"entry\" valign=\"top\" headers=\"d18218e63 \">N/A</td></tr><tr class=\"row\"><td class=\"entry\" valign=\"top\" headers=\"d18218e53 \">Estados Unidos</td><td class=\"entry\" valign=\"top\" headers=\"d18218e55 \">3</td><td class=\"entry\" valign=\"top\" headers=\"d18218e57 \">Mundo</td><td class=\"entry\" valign=\"top\" headers=\"d18218e59 \">América do Norte</td><td class=\"entry\" valign=\"top\" headers=\"d18218e61 \">Estados Unidos</td><td class=\"entry\" valign=\"top\" headers=\"d18218e63 \">N/A</td></tr><tr class=\"row\"><td class=\"entry\" valign=\"top\" headers=\"d18218e53 \">Canadá</td><td class=\"entry\" valign=\"top\" headers=\"d18218e55 \">3</td><td class=\"entry\" valign=\"top\" headers=\"d18218e57 \">Mundo</td><td class=\"entry\" valign=\"top\" headers=\"d18218e59 \">América do Norte</td><td class=\"entry\" valign=\"top\" headers=\"d18218e61 \">Canadá</td><td class=\"entry\" valign=\"top\" headers=\"d18218e63 \">N/A</td></tr><tr class=\"row\"><td class=\"entry\" valign=\"top\" headers=\"d18218e53 \">Nevada</td><td class=\"entry\" valign=\"top\" headers=\"d18218e55 \">4</td><td class=\"entry\" valign=\"top\" headers=\"d18218e57 \">Mundo</td><td class=\"entry\" valign=\"top\" headers=\"d18218e59 \">América do Norte</td><td class=\"entry\" valign=\"top\" headers=\"d18218e61 \">Estados Unidos</td><td class=\"entry\" valign=\"top\" headers=\"d18218e63 \">Nevada</td></tr><tr class=\"row\"><td class=\"entry\" valign=\"top\" headers=\"d18218e53 \">Texas</td><td class=\"entry\" valign=\"top\" headers=\"d18218e55 \">4</td><td class=\"entry\" valign=\"top\" headers=\"d18218e57 \">Mundo</td><td class=\"entry\" valign=\"top\" headers=\"d18218e59 \">América do Norte</td><td class=\"entry\" valign=\"top\" headers=\"d18218e61 \">Estados Unidos</td><td class=\"entry\" valign=\"top\" headers=\"d18218e63 \">Texas</td></tr></tbody></table>'"
            ]
          },
          "execution_count": 108,
          "metadata": {},
          "output_type": "execute_result"
        }
      ],
      "source": [
        "tabela.get_attribute('outerHTML')"
      ]
    },
    {
      "cell_type": "code",
      "execution_count": 109,
      "metadata": {},
      "outputs": [
        {
          "data": {
            "text/plain": [
              "'<table cellpadding=\"4\" cellspacing=\"0\" summary=\"Uma tabela de hierarquia simples com base na geografia\" class=\"table bx--data-table\" rules=\"all\" frame=\"border\" border=\"1\"><caption class=\"bx--data-table-header\"><span class=\"tablecap bx--data-table-header__title\">Tabela 1. Exemplo de hierarquia simples de geografia</span></caption><thead class=\"thead\" align=\"left\"><tr class=\"row\" valign=\"bottom\"><th class=\"entry thleft thbot\" valign=\"bottom\" id=\"d18218e53\"><div class=\"bx--table-header-label\">SPEC_ID</div></th><th class=\"entry thleft thbot\" valign=\"bottom\" id=\"d18218e55\"><div class=\"bx--table-header-label\">Número do nível</div></th><th class=\"entry thleft thbot\" valign=\"bottom\" id=\"d18218e57\"><div class=\"bx--table-header-label\">SPEC_ID de nível 1</div></th><th class=\"entry thleft thbot\" valign=\"bottom\" id=\"d18218e59\"><div class=\"bx--table-header-label\">SPEC_ID de nível 2</div></th><th class=\"entry thleft thbot\" valign=\"bottom\" id=\"d18218e61\"><div class=\"bx--table-header-label\">SPEC_ID de nível 3</div></th><th class=\"entry thleft thbot\" valign=\"bottom\" id=\"d18218e63\"><div class=\"bx--table-header-label\">SPEC_ID de nível 4</div></th></tr></thead><tbody class=\"tbody\"><tr class=\"row\"><td class=\"entry\" valign=\"top\" headers=\"d18218e53 \">Mundo</td><td class=\"entry\" valign=\"top\" headers=\"d18218e55 \">1</td><td class=\"entry\" valign=\"top\" headers=\"d18218e57 \">Mundo</td><td class=\"entry\" valign=\"top\" headers=\"d18218e59 \">N/A</td><td class=\"entry\" valign=\"top\" headers=\"d18218e61 \">N/A</td><td class=\"entry\" valign=\"top\" headers=\"d18218e63 \">N/A</td></tr><tr class=\"row\"><td class=\"entry\" valign=\"top\" headers=\"d18218e53 \">América do Norte</td><td class=\"entry\" valign=\"top\" headers=\"d18218e55 \">2</td><td class=\"entry\" valign=\"top\" headers=\"d18218e57 \">Mundo</td><td class=\"entry\" valign=\"top\" headers=\"d18218e59 \">América do Norte</td><td class=\"entry\" valign=\"top\" headers=\"d18218e61 \">N/A</td><td class=\"entry\" valign=\"top\" headers=\"d18218e63 \">N/A</td></tr><tr class=\"row\"><td class=\"entry\" valign=\"top\" headers=\"d18218e53 \">EMEA</td><td class=\"entry\" valign=\"top\" headers=\"d18218e55 \">2</td><td class=\"entry\" valign=\"top\" headers=\"d18218e57 \">Mundo</td><td class=\"entry\" valign=\"top\" headers=\"d18218e59 \">EMEA</td><td class=\"entry\" valign=\"top\" headers=\"d18218e61 \">N/A</td><td class=\"entry\" valign=\"top\" headers=\"d18218e63 \">N/A</td></tr><tr class=\"row\"><td class=\"entry\" valign=\"top\" headers=\"d18218e53 \">APAC</td><td class=\"entry\" valign=\"top\" headers=\"d18218e55 \">2</td><td class=\"entry\" valign=\"top\" headers=\"d18218e57 \">Mundo</td><td class=\"entry\" valign=\"top\" headers=\"d18218e59 \">APAC</td><td class=\"entry\" valign=\"top\" headers=\"d18218e61 \">N/A</td><td class=\"entry\" valign=\"top\" headers=\"d18218e63 \">N/A</td></tr><tr class=\"row\"><td class=\"entry\" valign=\"top\" headers=\"d18218e53 \">Estados Unidos</td><td class=\"entry\" valign=\"top\" headers=\"d18218e55 \">3</td><td class=\"entry\" valign=\"top\" headers=\"d18218e57 \">Mundo</td><td class=\"entry\" valign=\"top\" headers=\"d18218e59 \">América do Norte</td><td class=\"entry\" valign=\"top\" headers=\"d18218e61 \">Estados Unidos</td><td class=\"entry\" valign=\"top\" headers=\"d18218e63 \">N/A</td></tr><tr class=\"row\"><td class=\"entry\" valign=\"top\" headers=\"d18218e53 \">Canadá</td><td class=\"entry\" valign=\"top\" headers=\"d18218e55 \">3</td><td class=\"entry\" valign=\"top\" headers=\"d18218e57 \">Mundo</td><td class=\"entry\" valign=\"top\" headers=\"d18218e59 \">América do Norte</td><td class=\"entry\" valign=\"top\" headers=\"d18218e61 \">Canadá</td><td class=\"entry\" valign=\"top\" headers=\"d18218e63 \">N/A</td></tr><tr class=\"row\"><td class=\"entry\" valign=\"top\" headers=\"d18218e53 \">Nevada</td><td class=\"entry\" valign=\"top\" headers=\"d18218e55 \">4</td><td class=\"entry\" valign=\"top\" headers=\"d18218e57 \">Mundo</td><td class=\"entry\" valign=\"top\" headers=\"d18218e59 \">América do Norte</td><td class=\"entry\" valign=\"top\" headers=\"d18218e61 \">Estados Unidos</td><td class=\"entry\" valign=\"top\" headers=\"d18218e63 \">Nevada</td></tr><tr class=\"row\"><td class=\"entry\" valign=\"top\" headers=\"d18218e53 \">Texas</td><td class=\"entry\" valign=\"top\" headers=\"d18218e55 \">4</td><td class=\"entry\" valign=\"top\" headers=\"d18218e57 \">Mundo</td><td class=\"entry\" valign=\"top\" headers=\"d18218e59 \">América do Norte</td><td class=\"entry\" valign=\"top\" headers=\"d18218e61 \">Estados Unidos</td><td class=\"entry\" valign=\"top\" headers=\"d18218e63 \">Texas</td></tr></tbody></table>'"
            ]
          },
          "execution_count": 109,
          "metadata": {},
          "output_type": "execute_result"
        }
      ],
      "source": [
        "# Pega o HTML externo da tabela\n",
        "tabela_html = tabela.get_attribute('outerHTML')\n",
        "tabela_html"
      ]
    },
    {
      "cell_type": "code",
      "execution_count": 110,
      "metadata": {},
      "outputs": [
        {
          "data": {
            "text/html": [
              "<div>\n",
              "<style scoped>\n",
              "    .dataframe tbody tr th:only-of-type {\n",
              "        vertical-align: middle;\n",
              "    }\n",
              "\n",
              "    .dataframe tbody tr th {\n",
              "        vertical-align: top;\n",
              "    }\n",
              "\n",
              "    .dataframe thead th {\n",
              "        text-align: right;\n",
              "    }\n",
              "</style>\n",
              "<table border=\"1\" class=\"dataframe\">\n",
              "  <thead>\n",
              "    <tr style=\"text-align: right;\">\n",
              "      <th></th>\n",
              "      <th>SPEC_ID</th>\n",
              "      <th>Número do nível</th>\n",
              "      <th>SPEC_ID de nível 1</th>\n",
              "      <th>SPEC_ID de nível 2</th>\n",
              "      <th>SPEC_ID de nível 3</th>\n",
              "      <th>SPEC_ID de nível 4</th>\n",
              "    </tr>\n",
              "  </thead>\n",
              "  <tbody>\n",
              "    <tr>\n",
              "      <th>0</th>\n",
              "      <td>Mundo</td>\n",
              "      <td>1</td>\n",
              "      <td>Mundo</td>\n",
              "      <td>NaN</td>\n",
              "      <td>NaN</td>\n",
              "      <td>NaN</td>\n",
              "    </tr>\n",
              "    <tr>\n",
              "      <th>1</th>\n",
              "      <td>América do Norte</td>\n",
              "      <td>2</td>\n",
              "      <td>Mundo</td>\n",
              "      <td>América do Norte</td>\n",
              "      <td>NaN</td>\n",
              "      <td>NaN</td>\n",
              "    </tr>\n",
              "    <tr>\n",
              "      <th>2</th>\n",
              "      <td>EMEA</td>\n",
              "      <td>2</td>\n",
              "      <td>Mundo</td>\n",
              "      <td>EMEA</td>\n",
              "      <td>NaN</td>\n",
              "      <td>NaN</td>\n",
              "    </tr>\n",
              "    <tr>\n",
              "      <th>3</th>\n",
              "      <td>APAC</td>\n",
              "      <td>2</td>\n",
              "      <td>Mundo</td>\n",
              "      <td>APAC</td>\n",
              "      <td>NaN</td>\n",
              "      <td>NaN</td>\n",
              "    </tr>\n",
              "    <tr>\n",
              "      <th>4</th>\n",
              "      <td>Estados Unidos</td>\n",
              "      <td>3</td>\n",
              "      <td>Mundo</td>\n",
              "      <td>América do Norte</td>\n",
              "      <td>Estados Unidos</td>\n",
              "      <td>NaN</td>\n",
              "    </tr>\n",
              "    <tr>\n",
              "      <th>5</th>\n",
              "      <td>Canadá</td>\n",
              "      <td>3</td>\n",
              "      <td>Mundo</td>\n",
              "      <td>América do Norte</td>\n",
              "      <td>Canadá</td>\n",
              "      <td>NaN</td>\n",
              "    </tr>\n",
              "    <tr>\n",
              "      <th>6</th>\n",
              "      <td>Nevada</td>\n",
              "      <td>4</td>\n",
              "      <td>Mundo</td>\n",
              "      <td>América do Norte</td>\n",
              "      <td>Estados Unidos</td>\n",
              "      <td>Nevada</td>\n",
              "    </tr>\n",
              "    <tr>\n",
              "      <th>7</th>\n",
              "      <td>Texas</td>\n",
              "      <td>4</td>\n",
              "      <td>Mundo</td>\n",
              "      <td>América do Norte</td>\n",
              "      <td>Estados Unidos</td>\n",
              "      <td>Texas</td>\n",
              "    </tr>\n",
              "  </tbody>\n",
              "</table>\n",
              "</div>"
            ],
            "text/plain": [
              "            SPEC_ID  Número do nível SPEC_ID de nível 1 SPEC_ID de nível 2   \n",
              "0             Mundo                1              Mundo                NaN  \\\n",
              "1  América do Norte                2              Mundo   América do Norte   \n",
              "2              EMEA                2              Mundo               EMEA   \n",
              "3              APAC                2              Mundo               APAC   \n",
              "4    Estados Unidos                3              Mundo   América do Norte   \n",
              "5            Canadá                3              Mundo   América do Norte   \n",
              "6            Nevada                4              Mundo   América do Norte   \n",
              "7             Texas                4              Mundo   América do Norte   \n",
              "\n",
              "  SPEC_ID de nível 3 SPEC_ID de nível 4  \n",
              "0                NaN                NaN  \n",
              "1                NaN                NaN  \n",
              "2                NaN                NaN  \n",
              "3                NaN                NaN  \n",
              "4     Estados Unidos                NaN  \n",
              "5             Canadá                NaN  \n",
              "6     Estados Unidos             Nevada  \n",
              "7     Estados Unidos              Texas  "
            ]
          },
          "execution_count": 110,
          "metadata": {},
          "output_type": "execute_result"
        }
      ],
      "source": [
        "# Lê o HTML com o pandas e o transforma em um DataFrame\n",
        "df = pd.read_html(tabela_html)[0]\n",
        "df"
      ]
    },
    {
      "cell_type": "code",
      "execution_count": 111,
      "metadata": {},
      "outputs": [],
      "source": [
        "# Fechar o navegador\n",
        "driver.quit()"
      ]
    },
    {
      "cell_type": "markdown",
      "metadata": {
        "id": "vR5AmxpyNPdM"
      },
      "source": [
        "# Exercício: Manipulação de Dados com Pandas"
      ]
    },
    {
      "cell_type": "code",
      "execution_count": 117,
      "metadata": {
        "id": "vR5AmxpyNPdM"
      },
      "outputs": [
        {
          "data": {
            "text/html": [
              "<div>\n",
              "<style scoped>\n",
              "    .dataframe tbody tr th:only-of-type {\n",
              "        vertical-align: middle;\n",
              "    }\n",
              "\n",
              "    .dataframe tbody tr th {\n",
              "        vertical-align: top;\n",
              "    }\n",
              "\n",
              "    .dataframe thead th {\n",
              "        text-align: right;\n",
              "    }\n",
              "</style>\n",
              "<table border=\"1\" class=\"dataframe\">\n",
              "  <thead>\n",
              "    <tr style=\"text-align: right;\">\n",
              "      <th></th>\n",
              "      <th>SPEC_ID</th>\n",
              "      <th>Número do nível</th>\n",
              "      <th>SPEC_ID de nível 1</th>\n",
              "      <th>SPEC_ID de nível 2</th>\n",
              "      <th>SPEC_ID de nível 3</th>\n",
              "      <th>SPEC_ID de nível 4</th>\n",
              "    </tr>\n",
              "  </thead>\n",
              "  <tbody>\n",
              "    <tr>\n",
              "      <th>0</th>\n",
              "      <td>Mundo</td>\n",
              "      <td>1</td>\n",
              "      <td>Mundo</td>\n",
              "      <td>NaN</td>\n",
              "      <td>NaN</td>\n",
              "      <td>NaN</td>\n",
              "    </tr>\n",
              "    <tr>\n",
              "      <th>1</th>\n",
              "      <td>América do Norte</td>\n",
              "      <td>2</td>\n",
              "      <td>Mundo</td>\n",
              "      <td>América do Norte</td>\n",
              "      <td>NaN</td>\n",
              "      <td>NaN</td>\n",
              "    </tr>\n",
              "  </tbody>\n",
              "</table>\n",
              "</div>"
            ],
            "text/plain": [
              "            SPEC_ID  Número do nível SPEC_ID de nível 1 SPEC_ID de nível 2   \n",
              "0             Mundo                1              Mundo                NaN  \\\n",
              "1  América do Norte                2              Mundo   América do Norte   \n",
              "\n",
              "  SPEC_ID de nível 3 SPEC_ID de nível 4  \n",
              "0                NaN                NaN  \n",
              "1                NaN                NaN  "
            ]
          },
          "execution_count": 117,
          "metadata": {},
          "output_type": "execute_result"
        }
      ],
      "source": [
        "# Vamos utilizar a tabela obtida anteriormente para seguir com essa automatização\n",
        "df.tail(2)\n",
        "df.head(2)"
      ]
    },
    {
      "cell_type": "code",
      "execution_count": 52,
      "metadata": {},
      "outputs": [
        {
          "data": {
            "text/html": [
              "<div>\n",
              "<style scoped>\n",
              "    .dataframe tbody tr th:only-of-type {\n",
              "        vertical-align: middle;\n",
              "    }\n",
              "\n",
              "    .dataframe tbody tr th {\n",
              "        vertical-align: top;\n",
              "    }\n",
              "\n",
              "    .dataframe thead th {\n",
              "        text-align: right;\n",
              "    }\n",
              "</style>\n",
              "<table border=\"1\" class=\"dataframe\">\n",
              "  <thead>\n",
              "    <tr style=\"text-align: right;\">\n",
              "      <th></th>\n",
              "      <th>SPEC_ID</th>\n",
              "      <th>Número do nível</th>\n",
              "    </tr>\n",
              "  </thead>\n",
              "  <tbody>\n",
              "    <tr>\n",
              "      <th>0</th>\n",
              "      <td>Mundo</td>\n",
              "      <td>1</td>\n",
              "    </tr>\n",
              "    <tr>\n",
              "      <th>1</th>\n",
              "      <td>América do Norte</td>\n",
              "      <td>2</td>\n",
              "    </tr>\n",
              "    <tr>\n",
              "      <th>2</th>\n",
              "      <td>EMEA</td>\n",
              "      <td>2</td>\n",
              "    </tr>\n",
              "    <tr>\n",
              "      <th>3</th>\n",
              "      <td>APAC</td>\n",
              "      <td>2</td>\n",
              "    </tr>\n",
              "    <tr>\n",
              "      <th>4</th>\n",
              "      <td>Estados Unidos</td>\n",
              "      <td>3</td>\n",
              "    </tr>\n",
              "    <tr>\n",
              "      <th>5</th>\n",
              "      <td>Canadá</td>\n",
              "      <td>3</td>\n",
              "    </tr>\n",
              "    <tr>\n",
              "      <th>6</th>\n",
              "      <td>Nevada</td>\n",
              "      <td>4</td>\n",
              "    </tr>\n",
              "    <tr>\n",
              "      <th>7</th>\n",
              "      <td>Texas</td>\n",
              "      <td>4</td>\n",
              "    </tr>\n",
              "  </tbody>\n",
              "</table>\n",
              "</div>"
            ],
            "text/plain": [
              "            SPEC_ID  Número do nível\n",
              "0             Mundo                1\n",
              "1  América do Norte                2\n",
              "2              EMEA                2\n",
              "3              APAC                2\n",
              "4    Estados Unidos                3\n",
              "5            Canadá                3\n",
              "6            Nevada                4\n",
              "7             Texas                4"
            ]
          },
          "execution_count": 52,
          "metadata": {},
          "output_type": "execute_result"
        }
      ],
      "source": [
        "# Separar somente primeiras colunas\n",
        "df.iloc[:,:2]"
      ]
    },
    {
      "cell_type": "code",
      "execution_count": 119,
      "metadata": {},
      "outputs": [
        {
          "data": {
            "text/html": [
              "<div>\n",
              "<style scoped>\n",
              "    .dataframe tbody tr th:only-of-type {\n",
              "        vertical-align: middle;\n",
              "    }\n",
              "\n",
              "    .dataframe tbody tr th {\n",
              "        vertical-align: top;\n",
              "    }\n",
              "\n",
              "    .dataframe thead th {\n",
              "        text-align: right;\n",
              "    }\n",
              "</style>\n",
              "<table border=\"1\" class=\"dataframe\">\n",
              "  <thead>\n",
              "    <tr style=\"text-align: right;\">\n",
              "      <th></th>\n",
              "      <th>SPEC_ID</th>\n",
              "      <th>Número do nível</th>\n",
              "      <th>SPEC_ID de nível 1</th>\n",
              "    </tr>\n",
              "  </thead>\n",
              "  <tbody>\n",
              "    <tr>\n",
              "      <th>0</th>\n",
              "      <td>Mundo</td>\n",
              "      <td>1</td>\n",
              "      <td>Mundo</td>\n",
              "    </tr>\n",
              "    <tr>\n",
              "      <th>1</th>\n",
              "      <td>América do Norte</td>\n",
              "      <td>2</td>\n",
              "      <td>Mundo</td>\n",
              "    </tr>\n",
              "    <tr>\n",
              "      <th>2</th>\n",
              "      <td>EMEA</td>\n",
              "      <td>2</td>\n",
              "      <td>Mundo</td>\n",
              "    </tr>\n",
              "    <tr>\n",
              "      <th>3</th>\n",
              "      <td>APAC</td>\n",
              "      <td>2</td>\n",
              "      <td>Mundo</td>\n",
              "    </tr>\n",
              "    <tr>\n",
              "      <th>4</th>\n",
              "      <td>Estados Unidos</td>\n",
              "      <td>3</td>\n",
              "      <td>Mundo</td>\n",
              "    </tr>\n",
              "    <tr>\n",
              "      <th>5</th>\n",
              "      <td>Canadá</td>\n",
              "      <td>3</td>\n",
              "      <td>Mundo</td>\n",
              "    </tr>\n",
              "    <tr>\n",
              "      <th>6</th>\n",
              "      <td>Nevada</td>\n",
              "      <td>4</td>\n",
              "      <td>Mundo</td>\n",
              "    </tr>\n",
              "    <tr>\n",
              "      <th>7</th>\n",
              "      <td>Texas</td>\n",
              "      <td>4</td>\n",
              "      <td>Mundo</td>\n",
              "    </tr>\n",
              "  </tbody>\n",
              "</table>\n",
              "</div>"
            ],
            "text/plain": [
              "            SPEC_ID  Número do nível SPEC_ID de nível 1\n",
              "0             Mundo                1              Mundo\n",
              "1  América do Norte                2              Mundo\n",
              "2              EMEA                2              Mundo\n",
              "3              APAC                2              Mundo\n",
              "4    Estados Unidos                3              Mundo\n",
              "5            Canadá                3              Mundo\n",
              "6            Nevada                4              Mundo\n",
              "7             Texas                4              Mundo"
            ]
          },
          "execution_count": 119,
          "metadata": {},
          "output_type": "execute_result"
        }
      ],
      "source": [
        "df[['SPEC_ID','Número do nível','SPEC_ID de nível 1']]"
      ]
    },
    {
      "cell_type": "code",
      "execution_count": 120,
      "metadata": {},
      "outputs": [
        {
          "name": "stdout",
          "output_type": "stream",
          "text": [
            "Nome colunas ANTES: SPEC_ID,Número do nível,SPEC_ID de nível 1,SPEC_ID de nível 2,SPEC_ID de nível 3,SPEC_ID de nível 4\n",
            "Nome colunas DEPOIS: SPEC_ID,Num_Nivel,SPEC_ID de nível 1,SPEC_ID de nível 2,SPEC_ID de nível 3,SPEC_ID de nível 4\n"
          ]
        }
      ],
      "source": [
        "# Renomerar colunas\n",
        "print('Nome colunas ANTES:',','.join(df.columns.values))\n",
        "df = df.rename(columns={'Número do nível':'Num_Nivel'})\n",
        "print('Nome colunas DEPOIS:',','.join(df.columns.values))"
      ]
    },
    {
      "cell_type": "code",
      "execution_count": 121,
      "metadata": {},
      "outputs": [
        {
          "data": {
            "text/html": [
              "<div>\n",
              "<style scoped>\n",
              "    .dataframe tbody tr th:only-of-type {\n",
              "        vertical-align: middle;\n",
              "    }\n",
              "\n",
              "    .dataframe tbody tr th {\n",
              "        vertical-align: top;\n",
              "    }\n",
              "\n",
              "    .dataframe thead th {\n",
              "        text-align: right;\n",
              "    }\n",
              "</style>\n",
              "<table border=\"1\" class=\"dataframe\">\n",
              "  <thead>\n",
              "    <tr style=\"text-align: right;\">\n",
              "      <th></th>\n",
              "      <th>SPEC_ID</th>\n",
              "      <th>Num_Nivel</th>\n",
              "      <th>SPEC_ID de nível 1</th>\n",
              "      <th>SPEC_ID de nível 2</th>\n",
              "      <th>SPEC_ID de nível 3</th>\n",
              "      <th>SPEC_ID de nível 4</th>\n",
              "    </tr>\n",
              "  </thead>\n",
              "  <tbody>\n",
              "    <tr>\n",
              "      <th>0</th>\n",
              "      <td>Mundo</td>\n",
              "      <td>1</td>\n",
              "      <td>Mundo</td>\n",
              "      <td>NaN</td>\n",
              "      <td>NaN</td>\n",
              "      <td>NaN</td>\n",
              "    </tr>\n",
              "    <tr>\n",
              "      <th>1</th>\n",
              "      <td>América do Norte</td>\n",
              "      <td>2</td>\n",
              "      <td>Mundo</td>\n",
              "      <td>América do Norte</td>\n",
              "      <td>NaN</td>\n",
              "      <td>NaN</td>\n",
              "    </tr>\n",
              "  </tbody>\n",
              "</table>\n",
              "</div>"
            ],
            "text/plain": [
              "            SPEC_ID  Num_Nivel SPEC_ID de nível 1 SPEC_ID de nível 2   \n",
              "0             Mundo          1              Mundo                NaN  \\\n",
              "1  América do Norte          2              Mundo   América do Norte   \n",
              "\n",
              "  SPEC_ID de nível 3 SPEC_ID de nível 4  \n",
              "0                NaN                NaN  \n",
              "1                NaN                NaN  "
            ]
          },
          "execution_count": 121,
          "metadata": {},
          "output_type": "execute_result"
        }
      ],
      "source": [
        "df.head(2)"
      ]
    },
    {
      "cell_type": "code",
      "execution_count": 126,
      "metadata": {},
      "outputs": [
        {
          "data": {
            "text/plain": [
              "0    0.5\n",
              "1    1.0\n",
              "2    1.0\n",
              "3    1.0\n",
              "4    1.5\n",
              "5    1.5\n",
              "6    2.0\n",
              "7    2.0\n",
              "Name: Num_Nivel, dtype: float64"
            ]
          },
          "execution_count": 126,
          "metadata": {},
          "output_type": "execute_result"
        }
      ],
      "source": [
        "df['Num_Nivel']\n",
        "df.Num_Nivel\n",
        "df.Num_Nivel / 2"
      ]
    },
    {
      "cell_type": "markdown",
      "metadata": {
        "id": "F9-myF4zNZcu"
      },
      "source": [
        "# Exemplo OpenPyXL: Trabalhando com Planilhas Excel"
      ]
    },
    {
      "cell_type": "code",
      "execution_count": null,
      "metadata": {
        "id": "F9-myF4zNZcu"
      },
      "outputs": [],
      "source": [
        "# Carregar um arquivo Excel existente\n",
        "wb = openpyxl.load_workbook('exemplo.xlsx')\n",
        "sheet = wb.active\n",
        "\n",
        "# Adicionar mais dados à planilha\n",
        "sheet['A4'] = 'Pedro'\n",
        "sheet['B4'] = 22\n",
        "\n",
        "# Salvar as alterações\n",
        "wb.save('exemplo.xlsx')\n"
      ]
    },
    {
      "cell_type": "markdown",
      "metadata": {
        "id": "6de_tR0jNdzs"
      },
      "source": [
        "# Exemplo OS: Manipulando Arquivos e Diretórios"
      ]
    },
    {
      "cell_type": "markdown",
      "metadata": {
        "id": "6de_tR0jNdzs"
      },
      "source": [
        "## Exemplo de Listagem de Arquivos em um Diretório"
      ]
    },
    {
      "cell_type": "code",
      "execution_count": 127,
      "metadata": {
        "id": "y3E190NyNf6M"
      },
      "outputs": [
        {
          "name": "stdout",
          "output_type": "stream",
          "text": [
            "Arquivos no diretório:\n",
            "0010 - Fundamentos.ipynb\n",
            "0020 - Fundamentos CSV.csv\n",
            "0020 - Fundamentos Excel.xlsx\n",
            "0020 - Fundamentos.ipynb\n",
            "exemplo.xlsx\n",
            "MOD1_Introdução_II_Python.ipynb\n",
            "MOD1_Introdução_I_Python.ipynb\n",
            "MOD2_1_Aprendendo_Pandas.ipynb\n",
            "MOD2_2_Aprendendo_OpenPyXl.ipynb\n",
            "MOD2_3_Aprendendo_time_e_datetime.ipynb\n",
            "MOD2_4_Aprendendo_Selenium.ipynb\n",
            "MOD2_5_Aprendendo_OS.ipynb\n",
            "MOD2_6_Aprendendo_BS4_URLIB.ipynb\n",
            "MOD2_7_Projeto_1.ipynb\n",
            "MOD3_1_Selenium_ExecuteScript.ipynb\n",
            "MOD3_2_Selenium_ExtracaoHtml.ipynb\n",
            "MOD3_3_Selenium_ExtracaoArquivos.ipynb\n",
            "MOD3_4_Selenium_Extracao_Loop.ipynb\n",
            "MOD3_5_Projeto_2.ipynb\n",
            "MOD3_6_Projeto_2.ipynb\n",
            "MOD3_7_Projeto_3.ipynb\n",
            "MOD3_8_Projeto_4.ipynb\n",
            "MOD3_9_Projeto_5.ipynb\n",
            "README.md\n",
            "V0\n"
          ]
        }
      ],
      "source": [
        "import os\n",
        "# Listar todos os arquivos em um diretório\n",
        "diretorio = '.'\n",
        "arquivos = os.listdir(diretorio)\n",
        "\n",
        "print(\"Arquivos no diretório:\")\n",
        "for arquivo in arquivos:\n",
        "    print(arquivo)\n"
      ]
    },
    {
      "cell_type": "markdown",
      "metadata": {
        "id": "jP4-RacMNhWd"
      },
      "source": [
        "## Exemplo de Criação de Diretório"
      ]
    },
    {
      "cell_type": "code",
      "execution_count": 132,
      "metadata": {
        "id": "jP4-RacMNhWd"
      },
      "outputs": [
        {
          "name": "stdout",
          "output_type": "stream",
          "text": [
            "Diretório criado com sucesso.\n"
          ]
        }
      ],
      "source": [
        "# Criar um novo diretório\n",
        "novo_diretorio = 'novo_diretorio'\n",
        "\n",
        "# Verificar se o diretório foi criado\n",
        "if not os.path.exists(novo_diretorio):\n",
        "    os.makedirs(novo_diretorio)\n",
        "    print(\"Diretório criado com sucesso.\")\n",
        "else:\n",
        "    print(\"Diretório já estava criado.\")\n"
      ]
    },
    {
      "cell_type": "markdown",
      "metadata": {
        "id": "dODEOn1XNisk"
      },
      "source": [
        "## Exemplo Datetime: Manipulando Datas e Horas"
      ]
    },
    {
      "cell_type": "code",
      "execution_count": 133,
      "metadata": {},
      "outputs": [
        {
          "name": "stdout",
          "output_type": "stream",
          "text": [
            "Data e Hora Atuais: 2023-10-03 15:05:43.306628\n"
          ]
        }
      ],
      "source": [
        "from datetime import datetime, timedelta\n",
        "# Obter a data e hora atual\n",
        "data_hora_atual = datetime.now()\n",
        "print(\"Data e Hora Atuais:\", data_hora_atual)"
      ]
    },
    {
      "cell_type": "code",
      "execution_count": 134,
      "metadata": {},
      "outputs": [
        {
          "data": {
            "text/plain": [
              "datetime.datetime(2023, 10, 3, 15, 5, 48, 262538)"
            ]
          },
          "execution_count": 134,
          "metadata": {},
          "output_type": "execute_result"
        }
      ],
      "source": [
        "datetime.now()"
      ]
    },
    {
      "cell_type": "code",
      "execution_count": 135,
      "metadata": {},
      "outputs": [
        {
          "name": "stdout",
          "output_type": "stream",
          "text": [
            "2023-10-03 15:06:04.595485\n"
          ]
        }
      ],
      "source": [
        "print(datetime.now())"
      ]
    },
    {
      "cell_type": "code",
      "execution_count": 136,
      "metadata": {},
      "outputs": [
        {
          "name": "stdout",
          "output_type": "stream",
          "text": [
            "03/10/2023\n"
          ]
        }
      ],
      "source": [
        "print(datetime.now().strftime('%d/%m/%Y'))"
      ]
    },
    {
      "cell_type": "code",
      "execution_count": 137,
      "metadata": {
        "id": "dODEOn1XNisk"
      },
      "outputs": [
        {
          "name": "stdout",
          "output_type": "stream",
          "text": [
            "Data Formatada: 03/10/2023\n"
          ]
        }
      ],
      "source": [
        "# Formatando a data\n",
        "data_formatada = data_hora_atual.strftime('%d/%m/%Y')\n",
        "print(\"Data Formatada:\", data_formatada)\n"
      ]
    },
    {
      "cell_type": "code",
      "execution_count": 138,
      "metadata": {},
      "outputs": [
        {
          "data": {
            "text/plain": [
              "True"
            ]
          },
          "execution_count": 138,
          "metadata": {},
          "output_type": "execute_result"
        }
      ],
      "source": [
        "os.path.exists(r'0020 - Fundamentos CSV.csv')"
      ]
    },
    {
      "cell_type": "code",
      "execution_count": 140,
      "metadata": {},
      "outputs": [],
      "source": [
        "tempo_arquivo = os.path.getmtime(r'0020 - Fundamentos CSV.csv')"
      ]
    },
    {
      "cell_type": "code",
      "execution_count": 141,
      "metadata": {},
      "outputs": [
        {
          "data": {
            "text/plain": [
              "1696351413.0"
            ]
          },
          "execution_count": 141,
          "metadata": {},
          "output_type": "execute_result"
        }
      ],
      "source": [
        "tempo_arquivo"
      ]
    },
    {
      "cell_type": "code",
      "execution_count": 142,
      "metadata": {},
      "outputs": [
        {
          "data": {
            "text/plain": [
              "datetime.datetime(2023, 10, 3, 13, 43, 33)"
            ]
          },
          "execution_count": 142,
          "metadata": {},
          "output_type": "execute_result"
        }
      ],
      "source": [
        "datetime.fromtimestamp(tempo_arquivo)"
      ]
    },
    {
      "cell_type": "markdown",
      "metadata": {
        "id": "aTkp3P5qNk5E"
      },
      "source": [
        "# Exemplo PyAutoGui: Automatizando o Mouse e Teclado"
      ]
    },
    {
      "cell_type": "markdown",
      "metadata": {
        "id": "aTkp3P5qNk5E"
      },
      "source": [
        "## Exemplo de Captura de Tela"
      ]
    },
    {
      "cell_type": "code",
      "execution_count": null,
      "metadata": {
        "id": "pJwVORdzNmVc"
      },
      "outputs": [],
      "source": [
        "# Capturar a tela inteira e salvar como imagem\n",
        "imagem = pyautogui.screenshot('screenshot.png')\n",
        "print(\"Captura de Tela salva.\")\n"
      ]
    },
    {
      "cell_type": "markdown",
      "metadata": {
        "id": "ywTLC85GNpc8"
      },
      "source": [
        "## Exemplo de Movimento do Mouse"
      ]
    },
    {
      "cell_type": "code",
      "execution_count": null,
      "metadata": {
        "id": "ywTLC85GNpc8"
      },
      "outputs": [],
      "source": [
        "# Mover o mouse para uma posição específica\n",
        "pyautogui.moveTo(100, 100, duration=1)\n"
      ]
    },
    {
      "cell_type": "markdown",
      "metadata": {
        "id": "-2OCZH7RNq30"
      },
      "source": [
        "## Exemplo de Pressionar Teclas"
      ]
    },
    {
      "cell_type": "code",
      "execution_count": null,
      "metadata": {
        "id": "-2OCZH7RNq30"
      },
      "outputs": [],
      "source": [
        "# Pressionar teclas\n",
        "pyautogui.typewrite('Hello, World!', interval=0.25)\n"
      ]
    }
  ],
  "metadata": {
    "colab": {
      "authorship_tag": "ABX9TyMd3oL9kcEbxGndgmMMFnXM",
      "include_colab_link": true,
      "provenance": []
    },
    "kernelspec": {
      "display_name": "Python 3",
      "name": "python3"
    },
    "language_info": {
      "codemirror_mode": {
        "name": "ipython",
        "version": 3
      },
      "file_extension": ".py",
      "mimetype": "text/x-python",
      "name": "python",
      "nbconvert_exporter": "python",
      "pygments_lexer": "ipython3",
      "version": "3.10.8"
    }
  },
  "nbformat": 4,
  "nbformat_minor": 0
}
