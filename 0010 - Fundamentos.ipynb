{
  "cells": [
    {
      "cell_type": "markdown",
      "metadata": {
        "id": "282ubQUHJ_8C"
      },
      "source": [
        "# Introdução I - Python: Operadores e Loop's\n",
        "\n",
        "> Site Python.org para baixar Python: https://www.python.org/ <br>\n",
        "> Site para baixar Visual Studio Code: https://code.visualstudio.com/\n"
      ]
    },
    {
      "cell_type": "code",
      "execution_count": 9,
      "metadata": {
        "colab": {
          "base_uri": "https://localhost:8080/"
        },
        "id": "ShDpNoXvmJqd",
        "outputId": "d2df25c9-ac32-4351-f2aa-a383d51a68d5"
      },
      "outputs": [
        {
          "name": "stdout",
          "output_type": "stream",
          "text": [
            "teste \" \" fdf\n"
          ]
        }
      ],
      "source": [
        "variavel = 'teste \" \" fdf'\n",
        "print(variavel)"
      ]
    },
    {
      "cell_type": "markdown",
      "metadata": {},
      "source": [
        "## Tipos de Variáveis em Python:\n",
        "\n",
        "Python é uma linguagem de programação dinamicamente tipada, o que significa que não precisamos declarar o tipo de variável antecipadamente. A linguagem detecta automaticamente o tipo. Aqui estão alguns dos tipos básicos:\n",
        "\n",
        "> **str** (String): Usado para representar texto. <br>\n",
        "Exemplo: nome = \"Ana\"\n",
        "\n",
        "> **int** (Inteiro): Usado para representar números inteiros. <br>\n",
        "Exemplo: idade = 25\n",
        "\n",
        "> **float** (Ponto Flutuante): Usado para representar números reais, ou seja, números com casas decimais. <br>\n",
        "Exemplo: altura = 1.75\n",
        "\n",
        "> **list** (Lista): Uma coleção ordenada e mutável que pode conter itens de diferentes tipos. <br>\n",
        "Exemplo: frutas = [\"maçã\", \"banana\", \"cereja\"]\n",
        "\n",
        "> **dict** (Dicionário): Uma coleção desordenada de pares chave-valor. Útil para armazenar e recuperar dados de forma eficiente. <br>\n",
        "Exemplo: pessoa = {\"nome\": \"Ana\", \"idade\": 25}\n",
        "\n",
        "> **tuple** (Tupla): Semelhante a uma lista, mas imutável. Isso significa que, uma vez definida, os itens não podem ser modificados. <br>\n",
        "Exemplo: coordenadas = (4, 5)"
      ]
    },
    {
      "cell_type": "code",
      "execution_count": 24,
      "metadata": {},
      "outputs": [
        {
          "data": {
            "text/plain": [
              "'A abelha voa'"
            ]
          },
          "execution_count": 24,
          "metadata": {},
          "output_type": "execute_result"
        }
      ],
      "source": [
        "var1 = \"A abelha voa\"\n",
        "var1"
      ]
    },
    {
      "cell_type": "code",
      "execution_count": 25,
      "metadata": {},
      "outputs": [
        {
          "data": {
            "text/plain": [
              "str"
            ]
          },
          "execution_count": 25,
          "metadata": {},
          "output_type": "execute_result"
        }
      ],
      "source": [
        "type(var1)"
      ]
    },
    {
      "cell_type": "code",
      "execution_count": 28,
      "metadata": {},
      "outputs": [
        {
          "data": {
            "text/plain": [
              "['A', 'abelha', 'voa']"
            ]
          },
          "execution_count": 28,
          "metadata": {},
          "output_type": "execute_result"
        }
      ],
      "source": [
        "var1.split(' ')"
      ]
    },
    {
      "cell_type": "code",
      "execution_count": 30,
      "metadata": {},
      "outputs": [
        {
          "data": {
            "text/plain": [
              "['A', 'abelha', 'voa']"
            ]
          },
          "execution_count": 30,
          "metadata": {},
          "output_type": "execute_result"
        }
      ],
      "source": [
        "var2 = var1.split(' ')\n",
        "var3 = ['A', 'abelha', 'voa']\n",
        "var2"
      ]
    },
    {
      "cell_type": "code",
      "execution_count": 31,
      "metadata": {},
      "outputs": [
        {
          "data": {
            "text/plain": [
              "['A', 'abelha', 'voa']"
            ]
          },
          "execution_count": 31,
          "metadata": {},
          "output_type": "execute_result"
        }
      ],
      "source": [
        "var3"
      ]
    },
    {
      "cell_type": "code",
      "execution_count": 32,
      "metadata": {},
      "outputs": [
        {
          "data": {
            "text/plain": [
              "list"
            ]
          },
          "execution_count": 32,
          "metadata": {},
          "output_type": "execute_result"
        }
      ],
      "source": [
        "type(var2)"
      ]
    },
    {
      "cell_type": "code",
      "execution_count": 35,
      "metadata": {},
      "outputs": [
        {
          "data": {
            "text/plain": [
              "'abelha'"
            ]
          },
          "execution_count": 35,
          "metadata": {},
          "output_type": "execute_result"
        }
      ],
      "source": [
        "var2[1]"
      ]
    },
    {
      "cell_type": "code",
      "execution_count": 34,
      "metadata": {},
      "outputs": [
        {
          "data": {
            "text/plain": [
              "'voa'"
            ]
          },
          "execution_count": 34,
          "metadata": {},
          "output_type": "execute_result"
        }
      ],
      "source": [
        "var2[-1]"
      ]
    },
    {
      "cell_type": "code",
      "execution_count": 42,
      "metadata": {},
      "outputs": [
        {
          "data": {
            "text/plain": [
              "['A', 'abelha', 'voa']"
            ]
          },
          "execution_count": 42,
          "metadata": {},
          "output_type": "execute_result"
        }
      ],
      "source": [
        "var2[0] == 'A'\n",
        "var2[0] = 'A'\n",
        "var2"
      ]
    },
    {
      "cell_type": "code",
      "execution_count": 45,
      "metadata": {},
      "outputs": [
        {
          "name": "stdout",
          "output_type": "stream",
          "text": [
            "var2[0] =  A\n"
          ]
        },
        {
          "data": {
            "text/plain": [
              "False"
            ]
          },
          "execution_count": 45,
          "metadata": {},
          "output_type": "execute_result"
        }
      ],
      "source": [
        "print('var2[0] = ',var2[0])\n",
        "var2[0] == 'a'"
      ]
    },
    {
      "cell_type": "markdown",
      "metadata": {
        "id": "kD4I9aSUkfjb"
      },
      "source": [
        "--------------------------\n",
        "\n",
        "## **Estruturas básicas Python**\n",
        "\n",
        "### Exemplo de lista: \"Lista de Nomes\""
      ]
    },
    {
      "cell_type": "code",
      "execution_count": 50,
      "metadata": {
        "colab": {
          "base_uri": "https://localhost:8080/"
        },
        "id": "g_sVV4u8k7xM",
        "outputId": "042a4380-2b9e-498a-8160-edf519a34e1d"
      },
      "outputs": [
        {
          "data": {
            "text/plain": [
              "['João', 'Maria', 'Carlos', 'Ana', 'Pedro']"
            ]
          },
          "execution_count": 50,
          "metadata": {},
          "output_type": "execute_result"
        }
      ],
      "source": [
        "# Criando a lista de nomes\n",
        "nomes = [\"João\", \"Maria\", \"Carlos\", \"Ana\"]\n",
        "\n",
        "# Adicionando um novo nome à lista\n",
        "novo_nome = \"Pedro\"\n",
        "nomes.append(\"Pedro\")\n",
        "\n",
        "nomes\n"
      ]
    },
    {
      "cell_type": "code",
      "execution_count": 51,
      "metadata": {},
      "outputs": [
        {
          "data": {
            "text/plain": [
              "'Pedro'"
            ]
          },
          "execution_count": 51,
          "metadata": {},
          "output_type": "execute_result"
        }
      ],
      "source": [
        "\n",
        "# Acessando elementos da lista\n",
        "primeiro_nome = nomes[0]\n",
        "ultimo_nome = nomes[-1]\n",
        "\n",
        "ultimo_nome"
      ]
    },
    {
      "cell_type": "code",
      "execution_count": 57,
      "metadata": {},
      "outputs": [
        {
          "name": "stdout",
          "output_type": "stream",
          "text": [
            "Nomes na lista:\n",
            "João\n",
            "Maria\n",
            "Carlos\n",
            "Ana\n",
            "Pedro\n"
          ]
        }
      ],
      "source": [
        "# Percorrendo a lista com um loop for\n",
        "print(\"Nomes na lista:\")\n",
        "for primeiro_nome in nomes:\n",
        "    print(primeiro_nome)"
      ]
    },
    {
      "cell_type": "markdown",
      "metadata": {
        "id": "-mx_rFsYk-ec"
      },
      "source": [
        "## Exemplo de dicionário: \"Dados do Usuário\""
      ]
    },
    {
      "cell_type": "code",
      "execution_count": 59,
      "metadata": {
        "colab": {
          "base_uri": "https://localhost:8080/"
        },
        "id": "Le3jibpfk_Js",
        "outputId": "3c86e7fd-86be-483e-cffa-623ba30cbdfc"
      },
      "outputs": [
        {
          "data": {
            "text/plain": [
              "{'nome': 'João', 'idade': 30, 'email': 'joao@example.com'}"
            ]
          },
          "execution_count": 59,
          "metadata": {},
          "output_type": "execute_result"
        }
      ],
      "source": [
        "# Criando um dicionário com os dados do usuário\n",
        "usuario = {\n",
        "    \"nome\": \"João\",\n",
        "    \"idade\": 30,\n",
        "    \"email\": \"joao@example.com\"\n",
        "}\n",
        "\n",
        "usuario"
      ]
    },
    {
      "cell_type": "code",
      "execution_count": 60,
      "metadata": {},
      "outputs": [
        {
          "data": {
            "text/plain": [
              "dict_keys(['nome', 'idade', 'email'])"
            ]
          },
          "execution_count": 60,
          "metadata": {},
          "output_type": "execute_result"
        }
      ],
      "source": [
        "usuario.keys()"
      ]
    },
    {
      "cell_type": "code",
      "execution_count": 61,
      "metadata": {},
      "outputs": [
        {
          "data": {
            "text/plain": [
              "dict_values(['João', 30, 'joao@example.com'])"
            ]
          },
          "execution_count": 61,
          "metadata": {},
          "output_type": "execute_result"
        }
      ],
      "source": [
        "usuario.values()"
      ]
    },
    {
      "cell_type": "code",
      "execution_count": 62,
      "metadata": {},
      "outputs": [
        {
          "data": {
            "text/plain": [
              "('João', 30)"
            ]
          },
          "execution_count": 62,
          "metadata": {},
          "output_type": "execute_result"
        }
      ],
      "source": [
        "# Acessando valores do dicionário\n",
        "nome_usuario = usuario[\"nome\"]\n",
        "idade_usuario = usuario[\"idade\"]\n",
        "\n",
        "nome_usuario, idade_usuario"
      ]
    },
    {
      "cell_type": "code",
      "execution_count": 63,
      "metadata": {},
      "outputs": [
        {
          "name": "stdout",
          "output_type": "stream",
          "text": [
            "{'nome': 'João', 'idade': 30, 'email': 'joao@example.com'}\n"
          ]
        }
      ],
      "source": [
        "print(usuario)"
      ]
    },
    {
      "cell_type": "code",
      "execution_count": 64,
      "metadata": {},
      "outputs": [],
      "source": [
        "# Modificando um valor no dicionário\n",
        "usuario[\"email\"] = \"novo_email@example.com\"\n",
        "\n",
        "# Adicionando uma nova chave-valor ao dicionário\n",
        "usuario[\"cidade\"] = \"São Paulo\"\n"
      ]
    },
    {
      "cell_type": "code",
      "execution_count": 65,
      "metadata": {},
      "outputs": [
        {
          "name": "stdout",
          "output_type": "stream",
          "text": [
            "{'nome': 'João', 'idade': 30, 'email': 'novo_email@example.com', 'cidade': 'São Paulo'}\n"
          ]
        }
      ],
      "source": [
        "print(usuario)"
      ]
    },
    {
      "cell_type": "code",
      "execution_count": 70,
      "metadata": {},
      "outputs": [
        {
          "name": "stdout",
          "output_type": "stream",
          "text": [
            "Dados do usuário:\n",
            "nome: João\n",
            "idade: 30\n",
            "email: novo_email@example.com\n",
            "cidade: São Paulo\n"
          ]
        }
      ],
      "source": [
        "\n",
        "# Imprimindo os dados do usuário\n",
        "print(\"Dados do usuário:\")\n",
        "for chave, valor in usuario.items():\n",
        "    print(f\"{chave}: {valor}\")"
      ]
    },
    {
      "cell_type": "markdown",
      "metadata": {
        "id": "fuSsAWTpke7k"
      },
      "source": [
        "--------------------------\n",
        "\n",
        "## **Operadores Básicos**\n",
        "\n",
        "### Exemplo de Soma, Subtração, Multiplicação e Divisão"
      ]
    },
    {
      "cell_type": "code",
      "execution_count": 77,
      "metadata": {
        "colab": {
          "base_uri": "https://localhost:8080/"
        },
        "id": "yS33SJjUKM3D",
        "outputId": "f940ed7e-e411-46e1-bbcf-ce70e491bbef"
      },
      "outputs": [
        {
          "name": "stdout",
          "output_type": "stream",
          "text": [
            "Soma: 15\n",
            "Subtração: 5\n",
            "Multiplicação: 50\n",
            "Divisão: 2.0\n"
          ]
        }
      ],
      "source": [
        "a = 10\n",
        "b = 5\n",
        "\n",
        "soma = a + b\n",
        "subtracao = a - b\n",
        "multiplicacao = a * b\n",
        "divisao = a / b\n",
        "\n",
        "print(\"Soma:\", soma)\n",
        "print(\"Subtração:\", subtracao)\n",
        "print(\"Multiplicação:\", multiplicacao)\n",
        "print(\"Divisão:\", divisao)"
      ]
    },
    {
      "cell_type": "code",
      "execution_count": 79,
      "metadata": {
        "colab": {
          "base_uri": "https://localhost:8080/"
        },
        "id": "dlUFpBi6i2C7",
        "outputId": "4033d1bf-532d-4b18-bd2e-656befbf391b"
      },
      "outputs": [
        {
          "name": "stdout",
          "output_type": "stream",
          "text": [
            "Arredondamento com 2 casas decimais:  1.0\n",
            "Arredondamento com nenhuma casa decimal:  1\n"
          ]
        }
      ],
      "source": [
        "r = 1.001\n",
        "print('Arredondamento com 2 casas decimais: ',round(r,2))\n",
        "print('Arredondamento com nenhuma casa decimal: ',round(r))"
      ]
    },
    {
      "cell_type": "markdown",
      "metadata": {
        "id": "9SSHt7QHKTQj"
      },
      "source": [
        "## Exemplo de Potenciação e Resto da Divisão"
      ]
    },
    {
      "cell_type": "code",
      "execution_count": 80,
      "metadata": {
        "colab": {
          "base_uri": "https://localhost:8080/"
        },
        "id": "gxJv4ZjGKb5l",
        "outputId": "0c321352-641a-4f89-c2a6-3c947e6cba11"
      },
      "outputs": [
        {
          "name": "stdout",
          "output_type": "stream",
          "text": [
            "Potência: 8\n",
            "Resto da Divisão: 1\n"
          ]
        }
      ],
      "source": [
        "# Potenciação\n",
        "base = 2\n",
        "expoente = 3\n",
        "resultado = base ** expoente\n",
        "print(\"Potência:\", resultado)\n",
        "\n",
        "# Resto da Divisão\n",
        "dividendo = 10\n",
        "divisor = 3\n",
        "resto = dividendo % divisor\n",
        "print(\"Resto da Divisão:\", resto)\n"
      ]
    },
    {
      "cell_type": "markdown",
      "metadata": {
        "id": "SY3-koTLKeNx"
      },
      "source": [
        "----------------------\n",
        "\n",
        "# Estruturas Condicionais"
      ]
    },
    {
      "cell_type": "markdown",
      "metadata": {
        "id": "uxQjoNvxKkJK"
      },
      "source": [
        "## Exemplo de Estrutura Condicional (if-else)"
      ]
    },
    {
      "cell_type": "code",
      "execution_count": 82,
      "metadata": {
        "colab": {
          "base_uri": "https://localhost:8080/"
        },
        "id": "UJxvRiI1Kjtz",
        "outputId": "0b2d0638-1727-4856-dbfb-fc5637eaae93"
      },
      "outputs": [
        {
          "name": "stdout",
          "output_type": "stream",
          "text": [
            "Você é menor de idade.\n"
          ]
        }
      ],
      "source": [
        "idade = 16\n",
        "\n",
        "if idade >= 18:\n",
        "    print(\"Você é maior de idade.\")\n",
        "else:\n",
        "    print(\"Você é menor de idade.\")\n"
      ]
    },
    {
      "cell_type": "code",
      "execution_count": 85,
      "metadata": {},
      "outputs": [
        {
          "name": "stdout",
          "output_type": "stream",
          "text": [
            "Peso leve\n"
          ]
        }
      ],
      "source": [
        "peso = 5\n",
        "\n",
        "if peso < 10:\n",
        "    print('Peso leve')\n",
        "elif peso >= 10 and peso <= 20:\n",
        "    print('Peso médio')\n",
        "else:\n",
        "    print('Peso maior que 20kg')"
      ]
    },
    {
      "cell_type": "markdown",
      "metadata": {
        "id": "_Z6Au0EBKpUq"
      },
      "source": [
        "## Exemplo de Estrutura Condicional Aninhada (if-elif-else)"
      ]
    },
    {
      "cell_type": "code",
      "execution_count": 87,
      "metadata": {
        "colab": {
          "base_uri": "https://localhost:8080/"
        },
        "id": "xqSWhTcHKqrS",
        "outputId": "b63ebc16-f7c4-4d3f-d349-937b44f83b00"
      },
      "outputs": [
        {
          "name": "stdout",
          "output_type": "stream",
          "text": [
            "O número é positivo.\n"
          ]
        }
      ],
      "source": [
        "# Verifica se um número é positivo, negativo ou zero\n",
        "numero = float(input(\"Digite um número: \"))\n",
        "\n",
        "if numero > 0:\n",
        "    print(\"O número é positivo.\")\n",
        "elif numero < 0:\n",
        "    print(\"O número é negativo.\")\n",
        "else:\n",
        "    print(\"O número é zero.\")\n"
      ]
    },
    {
      "cell_type": "markdown",
      "metadata": {
        "id": "pkVPTxHnKtBy"
      },
      "source": [
        "## **Loops**\n",
        "\n",
        "## Exemplo de Loop For"
      ]
    },
    {
      "cell_type": "code",
      "execution_count": 88,
      "metadata": {
        "colab": {
          "base_uri": "https://localhost:8080/"
        },
        "id": "vWINcftljgKD",
        "outputId": "26420625-47fd-4f41-bc1d-8ec00be8cfef"
      },
      "outputs": [
        {
          "name": "stdout",
          "output_type": "stream",
          "text": [
            "Valor:  1\n",
            "O valor multiplicado por 2 é:  2 \n",
            "\n",
            "Valor:  3\n",
            "O valor multiplicado por 2 é:  6 \n",
            "\n",
            "Valor:  6\n",
            "O valor multiplicado por 2 é:  12 \n",
            "\n",
            "Valor:  9\n",
            "O valor multiplicado por 2 é:  18 \n",
            "\n",
            "Valor:  12\n",
            "O valor multiplicado por 2 é:  24 \n",
            "\n"
          ]
        }
      ],
      "source": [
        "lista_de_valores = [1,3,6,9,12]\n",
        "\n",
        "for valor in lista_de_valores:\n",
        "  print('Valor: ',valor)\n",
        "  print('O valor multiplicado por 2 é: ', valor * 2,'\\n')"
      ]
    },
    {
      "cell_type": "code",
      "execution_count": 89,
      "metadata": {
        "colab": {
          "base_uri": "https://localhost:8080/"
        },
        "id": "-xRF98dPKwDD",
        "outputId": "27fa94f3-b6f0-4a8f-d355-71ec12655b1c"
      },
      "outputs": [
        {
          "name": "stdout",
          "output_type": "stream",
          "text": [
            "0\n",
            "2\n",
            "4\n",
            "6\n",
            "8\n",
            "10\n"
          ]
        }
      ],
      "source": [
        "# Imprimir os números pares de 0 a 10 usando for\n",
        "for i in range(0, 11, 2):\n",
        "    print(i)\n"
      ]
    },
    {
      "cell_type": "markdown",
      "metadata": {
        "id": "xmHVUc04Kxrc"
      },
      "source": [
        "## Exemplo de Loop While"
      ]
    },
    {
      "cell_type": "code",
      "execution_count": 96,
      "metadata": {
        "colab": {
          "base_uri": "https://localhost:8080/"
        },
        "id": "YW6eIOoeKzbT",
        "outputId": "697c81b3-6846-4a23-e719-299e76f27b48"
      },
      "outputs": [
        {
          "name": "stdout",
          "output_type": "stream",
          "text": [
            "1\n",
            "3\n",
            "5\n",
            "7\n",
            "9\n",
            "Loop encerrado\n"
          ]
        }
      ],
      "source": [
        "# Imprimir os números ímpares de 1 a 9 usando while\n",
        "i = 1\n",
        "while i < 10:\n",
        "    print(i)\n",
        "    i += 2\n",
        "print('Loop encerrado')"
      ]
    },
    {
      "cell_type": "code",
      "execution_count": 97,
      "metadata": {},
      "outputs": [],
      "source": [
        "var = 0"
      ]
    },
    {
      "cell_type": "code",
      "execution_count": 118,
      "metadata": {},
      "outputs": [
        {
          "name": "stdout",
          "output_type": "stream",
          "text": [
            "21\n"
          ]
        }
      ],
      "source": [
        "var += 1\n",
        "print(var)"
      ]
    },
    {
      "cell_type": "markdown",
      "metadata": {
        "id": "LQ8TUaC6K1uT"
      },
      "source": [
        "# **Exercícios**"
      ]
    },
    {
      "cell_type": "markdown",
      "metadata": {
        "id": "vVsfQqFbK57D"
      },
      "source": [
        "## Exercício 1: Operações Matemáticas"
      ]
    },
    {
      "cell_type": "code",
      "execution_count": null,
      "metadata": {
        "colab": {
          "base_uri": "https://localhost:8080/"
        },
        "id": "wrzHtfT7K4sD",
        "outputId": "d55eb67f-1c7b-43bb-abef-0d3d1f7fe106"
      },
      "outputs": [
        {
          "name": "stdout",
          "output_type": "stream",
          "text": [
            "Digite o primeiro número: 2\n",
            "Digite o segundo número: 8\n",
            "Soma: 10.0\n",
            "Subtração: -6.0\n",
            "Multiplicação: 16.0\n",
            "Divisão: 0.25\n"
          ]
        }
      ],
      "source": [
        "# Escreva um programa que recebe dois números do usuário e imprime a soma, subtração, multiplicação e divisão.\n",
        "num1 = float(input(\"Digite o primeiro número: \"))\n",
        "num2 = float(input(\"Digite o segundo número: \"))\n",
        "\n",
        "soma = num1 + num2\n",
        "subtracao = num1 - num2\n",
        "multiplicacao = num1 * num2\n",
        "divisao = num1 / num2\n",
        "\n",
        "print(\"Soma:\", soma)\n",
        "print(\"Subtração:\", subtracao)\n",
        "print(\"Multiplicação:\", multiplicacao)\n",
        "print(\"Divisão:\", divisao)\n"
      ]
    },
    {
      "cell_type": "markdown",
      "metadata": {
        "id": "w-aoQij6K8aL"
      },
      "source": [
        "## Exercício 2: Verificação de Número"
      ]
    },
    {
      "cell_type": "code",
      "execution_count": null,
      "metadata": {
        "colab": {
          "base_uri": "https://localhost:8080/"
        },
        "id": "5gudPqNEK9xT",
        "outputId": "70667f2e-ce15-4dc6-9d35-a2a5e1dde5b8"
      },
      "outputs": [
        {
          "name": "stdout",
          "output_type": "stream",
          "text": [
            "Digite um número inteiro: 2\n",
            "O número é par.\n"
          ]
        }
      ],
      "source": [
        "# Escreva um programa que verifica se um número digitado pelo usuário é par ou ímpar.\n",
        "numero = int(input(\"Digite um número inteiro: \"))\n",
        "\n",
        "if numero % 2 == 0:\n",
        "    print(\"O número é par.\")\n",
        "else:\n",
        "    print(\"O número é ímpar.\")\n"
      ]
    },
    {
      "cell_type": "markdown",
      "metadata": {},
      "source": [
        "--------------\n",
        "# Introdução II - Python: Funções"
      ]
    },
    {
      "cell_type": "markdown",
      "metadata": {},
      "source": [
        "## Exemplo de Função Simples"
      ]
    },
    {
      "cell_type": "code",
      "execution_count": 120,
      "metadata": {},
      "outputs": [],
      "source": [
        "def saudacao():\n",
        "    print(\"Olá! Bem-vindo(a) à nossa função.\")\n"
      ]
    },
    {
      "cell_type": "code",
      "execution_count": 121,
      "metadata": {},
      "outputs": [
        {
          "name": "stdout",
          "output_type": "stream",
          "text": [
            "Olá! Bem-vindo(a) à nossa função.\n"
          ]
        }
      ],
      "source": [
        "saudacao()"
      ]
    },
    {
      "cell_type": "markdown",
      "metadata": {},
      "source": [
        "## Exemplo de Função com Parâmetros"
      ]
    },
    {
      "cell_type": "code",
      "execution_count": 122,
      "metadata": {},
      "outputs": [],
      "source": [
        "def soma(a, b):\n",
        "    return a + b\n"
      ]
    },
    {
      "cell_type": "code",
      "execution_count": 123,
      "metadata": {},
      "outputs": [
        {
          "data": {
            "text/plain": [
              "15"
            ]
          },
          "execution_count": 123,
          "metadata": {},
          "output_type": "execute_result"
        }
      ],
      "source": [
        "soma(10, 5)"
      ]
    },
    {
      "cell_type": "code",
      "execution_count": 124,
      "metadata": {},
      "outputs": [
        {
          "name": "stdout",
          "output_type": "stream",
          "text": [
            "Resultado da soma: 8\n"
          ]
        }
      ],
      "source": [
        "resultado = soma(5, 3)\n",
        "print(\"Resultado da soma:\", resultado)"
      ]
    },
    {
      "cell_type": "markdown",
      "metadata": {},
      "source": [
        "## Exemplo de Função com Argumentos Opcionais"
      ]
    },
    {
      "cell_type": "code",
      "execution_count": 125,
      "metadata": {},
      "outputs": [
        {
          "name": "stdout",
          "output_type": "stream",
          "text": [
            "Olá, Maria!\n",
            "Oi, João!\n"
          ]
        }
      ],
      "source": [
        "def saudacao_personalizada(nome, saudacao=\"Olá\"):\n",
        "    print(f\"{saudacao}, {nome}!\")\n",
        "\n",
        "saudacao_personalizada(\"Maria\")  # Saída: \"Olá, Maria!\"\n",
        "saudacao_personalizada(\"João\", \"Oi\")  # Saída: \"Oi, João!\"\n"
      ]
    },
    {
      "cell_type": "markdown",
      "metadata": {},
      "source": [
        "## Função com Valor de Retorno Múltiplo"
      ]
    },
    {
      "cell_type": "code",
      "execution_count": 134,
      "metadata": {},
      "outputs": [],
      "source": [
        "def divisao_e_resto(a, b):\n",
        "    return a // b, a % b"
      ]
    },
    {
      "cell_type": "code",
      "execution_count": 127,
      "metadata": {},
      "outputs": [
        {
          "data": {
            "text/plain": [
              "(0, 3)"
            ]
          },
          "execution_count": 127,
          "metadata": {},
          "output_type": "execute_result"
        }
      ],
      "source": [
        "divisao_e_resto(3,7)"
      ]
    },
    {
      "cell_type": "code",
      "execution_count": 135,
      "metadata": {},
      "outputs": [],
      "source": [
        "resultado = divisao_e_resto(10, 3)"
      ]
    },
    {
      "cell_type": "code",
      "execution_count": 136,
      "metadata": {},
      "outputs": [
        {
          "name": "stdout",
          "output_type": "stream",
          "text": [
            "Resultado da divisão: 3\n",
            "Resto da divisão: 1\n"
          ]
        }
      ],
      "source": [
        "resultado_div, resultado_resto = divisao_e_resto(10, 3)\n",
        "print(\"Resultado da divisão:\", resultado_div)\n",
        "print(\"Resto da divisão:\", resultado_resto)"
      ]
    },
    {
      "cell_type": "markdown",
      "metadata": {},
      "source": [
        "## Exercício de Função: EXEMPLO"
      ]
    },
    {
      "cell_type": "code",
      "execution_count": 137,
      "metadata": {},
      "outputs": [
        {
          "name": "stdout",
          "output_type": "stream",
          "text": [
            "A média é: 8.7\n"
          ]
        }
      ],
      "source": [
        "# EXEMPLO de exercíco: Função que recebe uma lista de números e retorna a média aritmética.\n",
        "\n",
        "def calcular_media(lista):\n",
        "    return sum(lista) / len(lista)\n",
        "\n",
        "numeros = [10, 8, 7, 9, 9.5]\n",
        "media = calcular_media(numeros)\n",
        "print(\"A média é:\", media)\n"
      ]
    },
    {
      "cell_type": "markdown",
      "metadata": {},
      "source": [
        "## Exercício de Função: SOMA"
      ]
    },
    {
      "cell_type": "code",
      "execution_count": 138,
      "metadata": {},
      "outputs": [],
      "source": [
        "# Agora sua vez! Aqui escreva uma função que recebe a lista \"Lista_Valores\" e retorna a soma dos valores:\n",
        "Lista_Valores = [10, 5, 5, 20]\n",
        "\n"
      ]
    },
    {
      "cell_type": "code",
      "execution_count": 18,
      "metadata": {},
      "outputs": [
        {
          "name": "stdout",
          "output_type": "stream",
          "text": [
            "A soma é de 40\n"
          ]
        }
      ],
      "source": [
        "# Resposta\n",
        "Lista_Valores = [10, 5, 5, 20]\n",
        "\n",
        "def sua_funcao(lista):\n",
        "    return sum(lista)\n",
        "\n",
        "resultado = sua_funcao(Lista_Valores)\n",
        "print(\"A soma é de\", resultado) # Precisa retornar 40"
      ]
    },
    {
      "cell_type": "markdown",
      "metadata": {},
      "source": [
        "## Exercício de Função: CONTAGEM"
      ]
    },
    {
      "cell_type": "code",
      "execution_count": null,
      "metadata": {},
      "outputs": [],
      "source": [
        "# Agora sua vez! Aqui escreva uma função que recebe a lista \"Lista_Valores\" e retorna a contagem dos valores\n",
        "Lista_Valores = [10, 5, 5, 20]\n"
      ]
    },
    {
      "cell_type": "code",
      "execution_count": 37,
      "metadata": {},
      "outputs": [
        {
          "name": "stdout",
          "output_type": "stream",
          "text": [
            "A contagem da lista tem 4 valores\n"
          ]
        }
      ],
      "source": [
        "# Resposta\n",
        "Lista_Valores = [10, 5, 5, 20]\n",
        "\n",
        "def sua_funcao(lista):\n",
        "    return len(lista)\n",
        "\n",
        "resultado = sua_funcao(Lista_Valores)\n",
        "print(\"A contagem da lista tem\", resultado, 'valores') # Precisa retornar 4"
      ]
    },
    {
      "cell_type": "markdown",
      "metadata": {
        "id": "J9ULbAs9lLcM"
      },
      "source": [
        "--------------\n",
        "# Notas:\n",
        "\n",
        "Para aqueles que nunca tiveram contato com programação, ou não se sintiram a vontade com esses exemplos, existem diversos conteúdos que trazem uma abordagem bem simples para se aprender a programar, eu não tenho nenhum convênio com o site \"Curso em Vídeo\", mas recomendo por sua didática bem clara, se quiserem verificar eles tem 3 cursos gratúitos introdutórios de Python:\n",
        "\n",
        "[Python - Modulo 1](https://www.cursoemvideo.com/curso/python-3-mundo-1/)\n",
        "\n",
        "[Python - Modulo 2](https://www.cursoemvideo.com/curso/python-3-mundo-2/)\n",
        "\n",
        "[Python - Modulo 3](https://www.cursoemvideo.com/curso/python-3-mundo-3/)"
      ]
    }
  ],
  "metadata": {
    "colab": {
      "authorship_tag": "ABX9TyO58yYHO4mWS23wYAO842KY",
      "include_colab_link": true,
      "provenance": []
    },
    "kernelspec": {
      "display_name": "Python 3",
      "name": "python3"
    },
    "language_info": {
      "codemirror_mode": {
        "name": "ipython",
        "version": 3
      },
      "file_extension": ".py",
      "mimetype": "text/x-python",
      "name": "python",
      "nbconvert_exporter": "python",
      "pygments_lexer": "ipython3",
      "version": "3.10.8"
    }
  },
  "nbformat": 4,
  "nbformat_minor": 0
}
